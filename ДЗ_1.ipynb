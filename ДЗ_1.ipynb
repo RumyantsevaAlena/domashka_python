{
  "nbformat": 4,
  "nbformat_minor": 0,
  "metadata": {
    "colab": {
      "provenance": []
    },
    "kernelspec": {
      "name": "python3",
      "display_name": "Python 3"
    },
    "language_info": {
      "name": "python"
    }
  },
  "cells": [
    {
      "cell_type": "markdown",
      "source": [
        "#Задача 2.\n",
        "###На складе лежат разные фрукты в разном количестве.\n",
        "Нужно написать функцию, которая на вход принимает любое количество названий фруктов и их количество, а возвращает общее количество фруктов на складе"
      ],
      "metadata": {
        "id": "szRdnTwMPdzg"
      }
    },
    {
      "cell_type": "code",
      "source": [
        "def fruits(**kwargs) -> int:\n",
        "  return sum(kwargs.values())\n",
        "fruits(f=3, u=6, k=1)"
      ],
      "metadata": {
        "colab": {
          "base_uri": "https://localhost:8080/"
        },
        "id": "S6hwkzkGPf_1",
        "outputId": "84b3688b-471a-41bb-f8cf-95fcb781ae10"
      },
      "execution_count": 56,
      "outputs": [
        {
          "output_type": "execute_result",
          "data": {
            "text/plain": [
              "10"
            ]
          },
          "metadata": {},
          "execution_count": 56
        }
      ]
    },
    {
      "cell_type": "markdown",
      "source": [
        "#**Задание 3.**\n",
        "##Дан список с затратами на рекламу. Но в данных есть ошибки, некоторые затраты имеют отрицательную величину. Удалите такие значения из списка и посчитайте суммарные затраты\n",
        "[100, 125, -90, 345, 655, -1, 0, 200]\n",
        "###Используйте list comprehensions"
      ],
      "metadata": {
        "id": "EJYUxXnSjD7q"
      }
    },
    {
      "cell_type": "code",
      "source": [
        "costs = [100, 125, -90, 345, 655, -1, 0, 200]\n",
        "sum_costs = sum([i for i in costs if i >= 0])\n",
        "sum_costs"
      ],
      "metadata": {
        "id": "wIONsG6QjiRK",
        "colab": {
          "base_uri": "https://localhost:8080/"
        },
        "outputId": "e8d90727-d255-4765-c74b-82f6351c954d"
      },
      "execution_count": 21,
      "outputs": [
        {
          "output_type": "execute_result",
          "data": {
            "text/plain": [
              "1425"
            ]
          },
          "metadata": {},
          "execution_count": 21
        }
      ]
    },
    {
      "cell_type": "markdown",
      "source": [
        "#**Задание 4.**\n",
        "##Даны два списка.\n",
        "Дата покупки\n",
        "['2021-09-14', '2021-12-15', '2021-09-08', '2021-12-05', '2021-10-09', '2021-09-30', '2021-12-22', '2021-11-29', '2021-12-24', '2021-11-26', '2021-10-27', '2021-12-18', '2021-11-09', '2021-11-23', '2021-09-27', '2021-10-02', '2021-12-27', '2021-09-20', '2021-12-13', '2021-11-01', '2021-11-09', '2021-12-06', '2021-12-08', '2021-10-09', '2021-10-31', '2021-09-30', '2021-11-09', '2021-12-13', '2021-10-26', '2021-12-09']\n",
        "##Суммы покупок по датам\n",
        "[1270, 8413, 9028, 3703, 5739, 4095, 295, 4944, 5723, 3701, 4471, 651, 7037, 4274, 6275, 4988, 6930, 2971, 6592, 2004, 2822, 519, 3406, 2732, 5015, 2008, 316, 6333, 5700, 2887]\n",
        "###**4.1 Найдите, какая выручка у компании в ноябре**\n",
        "Используйте list comprehensions"
      ],
      "metadata": {
        "id": "LDX1BqK6jixS"
      }
    },
    {
      "cell_type": "code",
      "source": [
        "data = ['2021-09-14', '2021-12-15', '2021-09-08', '2021-12-05', '2021-10-09', '2021-09-30', '2021-12-22', '2021-11-29', '2021-12-24', '2021-11-26', '2021-10-27', '2021-12-18', '2021-11-09', '2021-11-23', '2021-09-27', '2021-10-02', '2021-12-27', '2021-09-20', '2021-12-13', '2021-11-01', '2021-11-09', '2021-12-06', '2021-12-08', '2021-10-09', '2021-10-31', '2021-09-30', '2021-11-09', '2021-12-13', '2021-10-26', '2021-12-09']\n",
        "amount = [1270, 8413, 9028, 3703, 5739, 4095, 295, 4944, 5723, 3701, 4471, 651, 7037, 4274, 6275, 4988, 6930, 2971, 6592, 2004, 2822, 519, 3406, 2732, 5015, 2008, 316, 6333, 5700, 2887]"
      ],
      "metadata": {
        "id": "bvbvlYpRj-sC"
      },
      "execution_count": 30,
      "outputs": []
    },
    {
      "cell_type": "code",
      "source": [
        "revenue = sum(amount[i] for i in range(len(amount)) if '-11-' in data[i])\n",
        "revenue"
      ],
      "metadata": {
        "colab": {
          "base_uri": "https://localhost:8080/"
        },
        "id": "jUI5GIfSMzzJ",
        "outputId": "97d6c266-1188-4ff5-9148-eab119a55a70"
      },
      "execution_count": 34,
      "outputs": [
        {
          "output_type": "execute_result",
          "data": {
            "text/plain": [
              "25098"
            ]
          },
          "metadata": {},
          "execution_count": 34
        }
      ]
    },
    {
      "cell_type": "markdown",
      "source": [
        "###**4.2 Найдите выручку компании в зависимости от месяца**\n",
        "Для этого напишите функцию, которая на вход принимает список с датами и список с выручкой, а на выходе словарь, где ключи - это месяцы, а значения - это выручка.\n",
        "Используйте аннотирование типов."
      ],
      "metadata": {
        "id": "UVPhsllckAfq"
      }
    },
    {
      "cell_type": "code",
      "source": [
        "def revenue_month(data: list, amount: list) -> dict:\n",
        "  result = {}\n",
        "\n",
        "  for i in range(len(data)):\n",
        "    month = data[i][5:7]\n",
        "    if month in result:\n",
        "      result[month] += amount[i]\n",
        "    else:\n",
        "      result[month] = amount[i]\n",
        "  return result"
      ],
      "metadata": {
        "id": "4prhryI9kLqb"
      },
      "execution_count": 35,
      "outputs": []
    },
    {
      "cell_type": "code",
      "source": [
        "revenue_month(data, amount)"
      ],
      "metadata": {
        "colab": {
          "base_uri": "https://localhost:8080/"
        },
        "id": "o96oZWR-cT1Q",
        "outputId": "67c6ba08-4b6f-4fdd-da0b-170c450a25d6"
      },
      "execution_count": 36,
      "outputs": [
        {
          "output_type": "execute_result",
          "data": {
            "text/plain": [
              "{'09': 25647, '12': 45452, '10': 28645, '11': 25098}"
            ]
          },
          "metadata": {},
          "execution_count": 36
        }
      ]
    }
  ]
}